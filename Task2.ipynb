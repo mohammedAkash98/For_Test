{
  "nbformat": 4,
  "nbformat_minor": 0,
  "metadata": {
    "colab": {
      "provenance": []
    },
    "kernelspec": {
      "name": "python3",
      "display_name": "Python 3"
    },
    "language_info": {
      "name": "python"
    }
  },
  "cells": [
    {
      "cell_type": "code",
      "execution_count": 8,
      "metadata": {
        "colab": {
          "base_uri": "https://localhost:8080/"
        },
        "id": "q3soFv4ha0fJ",
        "outputId": "ba13c697-210e-4597-abec-02fd48ae03f5"
      },
      "outputs": [
        {
          "output_type": "stream",
          "name": "stdout",
          "text": [
            "Training Accuracy: 0.7580398162327718\n",
            "Testing Accuracy: 0.7489795918367347\n",
            "\n",
            "Confusion Matrix(Test Set):\n",
            "[[156 165]\n",
            " [ 81 578]]\n",
            "\n",
            "Classification Report(Test Set):\n",
            "              precision    recall  f1-score   support\n",
            "\n",
            "           0       0.66      0.49      0.56       321\n",
            "           1       0.78      0.88      0.82       659\n",
            "\n",
            "    accuracy                           0.75       980\n",
            "   macro avg       0.72      0.68      0.69       980\n",
            "weighted avg       0.74      0.75      0.74       980\n",
            "\n"
          ]
        }
      ],
      "source": [
        "import pandas as pd\n",
        "from sklearn.preprocessing import StandardScaler\n",
        "from sklearn.model_selection import train_test_split\n",
        "from sklearn.linear_model import LogisticRegression\n",
        "from sklearn.metrics import accuracy_score, classification_report, confusion_matrix\n",
        "data = pd.read_csv('winequality-white.csv', delimiter = ';')\n",
        "data.head()\n",
        "data['quality_binary'] = data['quality'].apply(lambda x: 1 if x >= 6 else 0)\n",
        "X = data.drop(['quality', 'quality_binary'], axis=1)\n",
        "y = data['quality_binary']\n",
        "scaler = StandardScaler()\n",
        "X_scaled = scaler.fit_transform(X)\n",
        "X_train, X_test, y_train, y_test = train_test_split(X_scaled, y, test_size=0.2, random_state=42)\n",
        "log_reg = LogisticRegression()\n",
        "log_reg.fit(X_train, y_train)\n",
        "y_train_pred = log_reg.predict(X_train)\n",
        "y_test_pred = log_reg.predict(X_test)\n",
        "train_accuracy = accuracy_score(y_train, y_train_pred)\n",
        "test_accuracy = accuracy_score(y_test, y_test_pred)\n",
        "print(\"Training Accuracy:\", train_accuracy)\n",
        "print(\"Testing Accuracy:\", test_accuracy)\n",
        "print(\"\\nConfusion Matrix(Test Set):\")\n",
        "print(confusion_matrix(y_test, y_test_pred))\n",
        "print(\"\\nClassification Report(Test Set):\")\n",
        "print(classification_report(y_test, y_test_pred))\n",
        "\n"
      ]
    }
  ]
}