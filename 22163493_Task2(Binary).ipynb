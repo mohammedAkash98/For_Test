{
  "nbformat": 4,
  "nbformat_minor": 0,
  "metadata": {
    "colab": {
      "provenance": []
    },
    "kernelspec": {
      "name": "python3",
      "display_name": "Python 3"
    },
    "language_info": {
      "name": "python"
    }
  },
  "cells": [
    {
      "cell_type": "code",
      "execution_count": 5,
      "metadata": {
        "colab": {
          "base_uri": "https://localhost:8080/"
        },
        "id": "q3soFv4ha0fJ",
        "outputId": "5413767e-0fac-41a7-db4a-d21f22ddec85"
      },
      "outputs": [
        {
          "output_type": "stream",
          "name": "stdout",
          "text": [
            "Training Accuracy: 75.32088681446908%\n",
            "Testing Accuracy: 75.4421768707483%\n",
            "\n",
            "Confusion Matrix(Test Set):\n",
            "[[242 231]\n",
            " [130 867]]\n",
            "\n",
            "Classification Report(Test Set):\n",
            "              precision    recall  f1-score   support\n",
            "\n",
            "           0       0.65      0.51      0.57       473\n",
            "           1       0.79      0.87      0.83       997\n",
            "\n",
            "    accuracy                           0.75      1470\n",
            "   macro avg       0.72      0.69      0.70      1470\n",
            "weighted avg       0.74      0.75      0.75      1470\n",
            "\n"
          ]
        }
      ],
      "source": [
        "import pandas as pd\n",
        "from sklearn.preprocessing import StandardScaler\n",
        "from sklearn.model_selection import train_test_split\n",
        "from sklearn.linear_model import LogisticRegression\n",
        "from sklearn.metrics import accuracy_score, classification_report, confusion_matrix\n",
        "data = pd.read_csv('winequality-white.csv', delimiter = ';')\n",
        "data.head()\n",
        "data['quality_binary'] = data['quality'].apply(lambda x: 1 if x >=6  else 0)\n",
        "X = data.drop(['quality', 'quality_binary'], axis=1)\n",
        "y = data['quality_binary']\n",
        "scaler = StandardScaler()\n",
        "X_scaled = scaler.fit_transform(X)\n",
        "X_train, X_test, y_train, y_test = train_test_split(X_scaled, y, test_size=0.3, random_state=42)\n",
        "log_reg = LogisticRegression()\n",
        "log_reg.fit(X_train, y_train)\n",
        "y_train_pred = log_reg.predict(X_train)\n",
        "y_test_pred = log_reg.predict(X_test)\n",
        "train_accuracy = accuracy_score(y_train, y_train_pred)\n",
        "test_accuracy = accuracy_score(y_test, y_test_pred)\n",
        "print(f\"Training Accuracy: {train_accuracy*100}%\")\n",
        "print(f\"Testing Accuracy: {test_accuracy*100}%\")\n",
        "print(\"\\nConfusion Matrix(Test Set):\")\n",
        "print(confusion_matrix(y_test, y_test_pred))\n",
        "print(\"\\nClassification Report(Test Set):\")\n",
        "print(classification_report(y_test, y_test_pred))\n",
        "\n"
      ]
    }
  ]
}